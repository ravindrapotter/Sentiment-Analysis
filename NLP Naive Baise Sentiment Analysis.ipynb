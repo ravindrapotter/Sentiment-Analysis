{
 "cells": [
  {
   "cell_type": "code",
   "execution_count": 1,
   "metadata": {},
   "outputs": [],
   "source": [
    "import pandas as pd"
   ]
  },
  {
   "cell_type": "code",
   "execution_count": 2,
   "metadata": {},
   "outputs": [],
   "source": [
    "import numpy as np"
   ]
  },
  {
   "cell_type": "code",
   "execution_count": 3,
   "metadata": {},
   "outputs": [],
   "source": [
    "df = pd.read_csv(\"tripadvisor_hotel_reviews.csv\")"
   ]
  },
  {
   "cell_type": "code",
   "execution_count": 4,
   "metadata": {},
   "outputs": [],
   "source": [
    "df[\"sentiment\"] = df['Rating'].apply(lambda x : 1 if x > 3 else 0)"
   ]
  },
  {
   "cell_type": "code",
   "execution_count": 5,
   "metadata": {},
   "outputs": [],
   "source": [
    "import re"
   ]
  },
  {
   "cell_type": "code",
   "execution_count": 6,
   "metadata": {},
   "outputs": [],
   "source": [
    "import nltk"
   ]
  },
  {
   "cell_type": "code",
   "execution_count": 7,
   "metadata": {},
   "outputs": [],
   "source": [
    "from sklearn.model_selection import train_test_split"
   ]
  },
  {
   "cell_type": "code",
   "execution_count": 8,
   "metadata": {},
   "outputs": [],
   "source": [
    "from sklearn.metrics import confusion_matrix"
   ]
  },
  {
   "cell_type": "code",
   "execution_count": 9,
   "metadata": {},
   "outputs": [
    {
     "name": "stderr",
     "output_type": "stream",
     "text": [
      "[nltk_data] Downloading package stopwords to\n",
      "[nltk_data]     C:\\Users\\ravin\\AppData\\Roaming\\nltk_data...\n",
      "[nltk_data]   Package stopwords is already up-to-date!\n"
     ]
    },
    {
     "data": {
      "text/plain": [
       "True"
      ]
     },
     "execution_count": 9,
     "metadata": {},
     "output_type": "execute_result"
    }
   ],
   "source": [
    "nltk.download('stopwords')"
   ]
  },
  {
   "cell_type": "code",
   "execution_count": 10,
   "metadata": {},
   "outputs": [],
   "source": [
    "from nltk.corpus import stopwords\n",
    "from nltk.stem.porter import PorterStemmer"
   ]
  },
  {
   "cell_type": "code",
   "execution_count": 11,
   "metadata": {},
   "outputs": [
    {
     "data": {
      "text/html": [
       "<div>\n",
       "<style scoped>\n",
       "    .dataframe tbody tr th:only-of-type {\n",
       "        vertical-align: middle;\n",
       "    }\n",
       "\n",
       "    .dataframe tbody tr th {\n",
       "        vertical-align: top;\n",
       "    }\n",
       "\n",
       "    .dataframe thead th {\n",
       "        text-align: right;\n",
       "    }\n",
       "</style>\n",
       "<table border=\"1\" class=\"dataframe\">\n",
       "  <thead>\n",
       "    <tr style=\"text-align: right;\">\n",
       "      <th></th>\n",
       "      <th>Review</th>\n",
       "      <th>Rating</th>\n",
       "      <th>sentiment</th>\n",
       "    </tr>\n",
       "  </thead>\n",
       "  <tbody>\n",
       "    <tr>\n",
       "      <td>0</td>\n",
       "      <td>nice hotel expensive parking got good deal sta...</td>\n",
       "      <td>4</td>\n",
       "      <td>1</td>\n",
       "    </tr>\n",
       "    <tr>\n",
       "      <td>1</td>\n",
       "      <td>ok nothing special charge diamond member hilto...</td>\n",
       "      <td>2</td>\n",
       "      <td>0</td>\n",
       "    </tr>\n",
       "    <tr>\n",
       "      <td>2</td>\n",
       "      <td>nice rooms not 4* experience hotel monaco seat...</td>\n",
       "      <td>3</td>\n",
       "      <td>0</td>\n",
       "    </tr>\n",
       "    <tr>\n",
       "      <td>3</td>\n",
       "      <td>unique, great stay, wonderful time hotel monac...</td>\n",
       "      <td>5</td>\n",
       "      <td>1</td>\n",
       "    </tr>\n",
       "    <tr>\n",
       "      <td>4</td>\n",
       "      <td>great stay great stay, went seahawk game aweso...</td>\n",
       "      <td>5</td>\n",
       "      <td>1</td>\n",
       "    </tr>\n",
       "  </tbody>\n",
       "</table>\n",
       "</div>"
      ],
      "text/plain": [
       "                                              Review  Rating  sentiment\n",
       "0  nice hotel expensive parking got good deal sta...       4          1\n",
       "1  ok nothing special charge diamond member hilto...       2          0\n",
       "2  nice rooms not 4* experience hotel monaco seat...       3          0\n",
       "3  unique, great stay, wonderful time hotel monac...       5          1\n",
       "4  great stay great stay, went seahawk game aweso...       5          1"
      ]
     },
     "execution_count": 11,
     "metadata": {},
     "output_type": "execute_result"
    }
   ],
   "source": [
    "df.head()"
   ]
  },
  {
   "cell_type": "code",
   "execution_count": 12,
   "metadata": {},
   "outputs": [],
   "source": [
    "ps = PorterStemmer()"
   ]
  },
  {
   "cell_type": "code",
   "execution_count": 13,
   "metadata": {},
   "outputs": [],
   "source": [
    "def cleaning(x):\n",
    "    review = re.sub('[^a-zA-Z]', ' ',x)\n",
    "    review = review.lower()\n",
    "    review = review.split()\n",
    "    review = [ps.stem(i) for i in review if not i in stopwords.words('english') ]\n",
    "    review = \" \".join(review)\n",
    "    return review"
   ]
  },
  {
   "cell_type": "code",
   "execution_count": 14,
   "metadata": {},
   "outputs": [
    {
     "data": {
      "text/plain": [
       "1    15093\n",
       "0     5398\n",
       "Name: sentiment, dtype: int64"
      ]
     },
     "execution_count": 14,
     "metadata": {},
     "output_type": "execute_result"
    }
   ],
   "source": [
    "df.sentiment.value_counts()"
   ]
  },
  {
   "cell_type": "code",
   "execution_count": 15,
   "metadata": {},
   "outputs": [],
   "source": [
    "part1 = df[df.sentiment == 0]"
   ]
  },
  {
   "cell_type": "code",
   "execution_count": 18,
   "metadata": {},
   "outputs": [],
   "source": [
    "part2 = df[df.sentiment == 1].sample(frac = .36)"
   ]
  },
  {
   "cell_type": "code",
   "execution_count": 17,
   "metadata": {},
   "outputs": [
    {
     "data": {
      "text/plain": [
       "(5433, 3)"
      ]
     },
     "execution_count": 17,
     "metadata": {},
     "output_type": "execute_result"
    }
   ],
   "source": [
    "part2.shape"
   ]
  },
  {
   "cell_type": "code",
   "execution_count": 20,
   "metadata": {},
   "outputs": [],
   "source": [
    "df_new = pd.concat([part1,part2]).sample(frac = 1)"
   ]
  },
  {
   "cell_type": "code",
   "execution_count": 21,
   "metadata": {},
   "outputs": [
    {
     "data": {
      "text/plain": [
       "1    5433\n",
       "0    5398\n",
       "Name: sentiment, dtype: int64"
      ]
     },
     "execution_count": 21,
     "metadata": {},
     "output_type": "execute_result"
    }
   ],
   "source": [
    "df_new.sentiment.value_counts()"
   ]
  },
  {
   "cell_type": "code",
   "execution_count": 22,
   "metadata": {},
   "outputs": [
    {
     "data": {
      "text/html": [
       "<div>\n",
       "<style scoped>\n",
       "    .dataframe tbody tr th:only-of-type {\n",
       "        vertical-align: middle;\n",
       "    }\n",
       "\n",
       "    .dataframe tbody tr th {\n",
       "        vertical-align: top;\n",
       "    }\n",
       "\n",
       "    .dataframe thead th {\n",
       "        text-align: right;\n",
       "    }\n",
       "</style>\n",
       "<table border=\"1\" class=\"dataframe\">\n",
       "  <thead>\n",
       "    <tr style=\"text-align: right;\">\n",
       "      <th></th>\n",
       "      <th>Review</th>\n",
       "      <th>Rating</th>\n",
       "      <th>sentiment</th>\n",
       "    </tr>\n",
       "  </thead>\n",
       "  <tbody>\n",
       "    <tr>\n",
       "      <td>15642</td>\n",
       "      <td>super customer service husband just come trip ...</td>\n",
       "      <td>4</td>\n",
       "      <td>1</td>\n",
       "    </tr>\n",
       "    <tr>\n",
       "      <td>5891</td>\n",
       "      <td>hotel toledano aware place booking phone webpa...</td>\n",
       "      <td>2</td>\n",
       "      <td>0</td>\n",
       "    </tr>\n",
       "    <tr>\n",
       "      <td>11196</td>\n",
       "      <td>did acheive 5 star rating, just not 5 star hot...</td>\n",
       "      <td>2</td>\n",
       "      <td>0</td>\n",
       "    </tr>\n",
       "    <tr>\n",
       "      <td>18050</td>\n",
       "      <td>usual seasons excellence great seasons hotel e...</td>\n",
       "      <td>5</td>\n",
       "      <td>1</td>\n",
       "    </tr>\n",
       "    <tr>\n",
       "      <td>13442</td>\n",
       "      <td>just imagined web page hotel v web page descri...</td>\n",
       "      <td>4</td>\n",
       "      <td>1</td>\n",
       "    </tr>\n",
       "    <tr>\n",
       "      <td>...</td>\n",
       "      <td>...</td>\n",
       "      <td>...</td>\n",
       "      <td>...</td>\n",
       "    </tr>\n",
       "    <tr>\n",
       "      <td>6394</td>\n",
       "      <td>disappointing service experience benjamin echo...</td>\n",
       "      <td>2</td>\n",
       "      <td>0</td>\n",
       "    </tr>\n",
       "    <tr>\n",
       "      <td>12545</td>\n",
       "      <td>beautiful beach bad food drinks hotel grounds ...</td>\n",
       "      <td>2</td>\n",
       "      <td>0</td>\n",
       "    </tr>\n",
       "    <tr>\n",
       "      <td>20041</td>\n",
       "      <td>hotel helll, concern letter account horrible e...</td>\n",
       "      <td>1</td>\n",
       "      <td>0</td>\n",
       "    </tr>\n",
       "    <tr>\n",
       "      <td>13368</td>\n",
       "      <td>poor service impressions n't great, arrival yo...</td>\n",
       "      <td>2</td>\n",
       "      <td>0</td>\n",
       "    </tr>\n",
       "    <tr>\n",
       "      <td>17524</td>\n",
       "      <td>wow, time new york booked trip based recommend...</td>\n",
       "      <td>5</td>\n",
       "      <td>1</td>\n",
       "    </tr>\n",
       "  </tbody>\n",
       "</table>\n",
       "<p>10831 rows × 3 columns</p>\n",
       "</div>"
      ],
      "text/plain": [
       "                                                  Review  Rating  sentiment\n",
       "15642  super customer service husband just come trip ...       4          1\n",
       "5891   hotel toledano aware place booking phone webpa...       2          0\n",
       "11196  did acheive 5 star rating, just not 5 star hot...       2          0\n",
       "18050  usual seasons excellence great seasons hotel e...       5          1\n",
       "13442  just imagined web page hotel v web page descri...       4          1\n",
       "...                                                  ...     ...        ...\n",
       "6394   disappointing service experience benjamin echo...       2          0\n",
       "12545  beautiful beach bad food drinks hotel grounds ...       2          0\n",
       "20041  hotel helll, concern letter account horrible e...       1          0\n",
       "13368  poor service impressions n't great, arrival yo...       2          0\n",
       "17524  wow, time new york booked trip based recommend...       5          1\n",
       "\n",
       "[10831 rows x 3 columns]"
      ]
     },
     "execution_count": 22,
     "metadata": {},
     "output_type": "execute_result"
    }
   ],
   "source": [
    "df_new"
   ]
  },
  {
   "cell_type": "code",
   "execution_count": 23,
   "metadata": {
    "scrolled": true
   },
   "outputs": [
    {
     "data": {
      "text/plain": [
       "15642    super custom servic husband come trip asia sta...\n",
       "5891     hotel toledano awar place book phone webpag wa...\n",
       "11196    acheiv star rate star hotel room tub rust toil...\n",
       "18050    usual season excel great season hotel exce exp...\n",
       "13442    imagin web page hotel v web page descript accu...\n",
       "12147    nice hotel close circular quay pitt street mal...\n",
       "11292    fabul vacat arriv hotel numer bad review head ...\n",
       "19163    good experi recent day holiday bali stay night...\n",
       "16776    good time n eat bit hesit write follow review ...\n",
       "17043    best kept secret averag best give hotel probab...\n",
       "8201     dump dump dump rate place four star dump room ...\n",
       "7632     great best thing resort beauti ground except f...\n",
       "9678     excel staff small room staff nadia hotel n fri...\n",
       "16412    go impress staff excel servicesm fantast love ...\n",
       "1968     great holiday hotel great locat right street i...\n",
       "1081     expect nicer come seattl busi coupl peopl reco...\n",
       "310      absolutli worst book room wife trip seattl edg...\n",
       "8773     excel locat book hotel speedili expedia chose ...\n",
       "12120    realli great view famili teenag best time quay...\n",
       "18246    ca n wait return week long stay aqua palm spa ...\n",
       "17347    restaur plato coral sea hotel bad experi resta...\n",
       "13463    come citi inn got good deal includ breakfast s...\n",
       "10075    comfi enjoy nt stay room famili room comfi dec...\n",
       "3306     servic terribl room ok food expens stay romant...\n",
       "14784    hotel dodgi guy tri rip n stay dodgi arriv lon...\n",
       "9208     poor bathroom major issu hotel major problem r...\n",
       "19499    touchi feeli staff amaz foodincread select fre...\n",
       "10537    great locat piti room situat n better time vis...\n",
       "16040    good valu use hotel night stop way auz arriv j...\n",
       "9439     ibi stopera hotel noisi return day amsterdam s...\n",
       "11201    wonder trip stay hotel th th great time check ...\n",
       "4803     nice hotel good staff choos hotel read review ...\n",
       "15023    best servic return night intercontinent absolu...\n",
       "3130     hope review help got melia carib start bad res...\n",
       "14643    clean locat friendli overal experi great room ...\n",
       "6903     excel say disappoint best deem place star arri...\n",
       "14707    week paradis book trip travel agent lot resear...\n",
       "19686    felt like home away home spent day busi trip e...\n",
       "16819    bad room alloc arriv good ask move hotel given...\n",
       "1174     love room small extrem friendli staff immacul ...\n",
       "3898     best pina colada puerto rico thing hotel best ...\n",
       "2722     hotel need help bavaro beach need profession h...\n",
       "964      perfect locat locat perfect block cabl car mun...\n",
       "18578    fantast time majest coloni husband coupl stay ...\n",
       "7676     book wine locat perfect hotel librari nyc tri ...\n",
       "15679    poor valu stay hotel night night trip move roy...\n",
       "2301     whatch caus screw ya place dump husband paid r...\n",
       "4175     great build base quit good review year lone pl...\n",
       "9644     fantast state hotel justifi whatsoev husband s...\n",
       "12721    great coffe wonder locat florenc hotel perseo ...\n",
       "Name: Review, dtype: object"
      ]
     },
     "execution_count": 23,
     "metadata": {},
     "output_type": "execute_result"
    }
   ],
   "source": [
    "df_new.iloc[0:50 , 0].apply(cleaning)"
   ]
  },
  {
   "cell_type": "code",
   "execution_count": 24,
   "metadata": {
    "scrolled": true
   },
   "outputs": [],
   "source": [
    "df_new['review_clean'] = df_new.iloc[0:,0].apply(cleaning)"
   ]
  },
  {
   "cell_type": "code",
   "execution_count": 25,
   "metadata": {},
   "outputs": [
    {
     "data": {
      "text/html": [
       "<div>\n",
       "<style scoped>\n",
       "    .dataframe tbody tr th:only-of-type {\n",
       "        vertical-align: middle;\n",
       "    }\n",
       "\n",
       "    .dataframe tbody tr th {\n",
       "        vertical-align: top;\n",
       "    }\n",
       "\n",
       "    .dataframe thead th {\n",
       "        text-align: right;\n",
       "    }\n",
       "</style>\n",
       "<table border=\"1\" class=\"dataframe\">\n",
       "  <thead>\n",
       "    <tr style=\"text-align: right;\">\n",
       "      <th></th>\n",
       "      <th>Review</th>\n",
       "      <th>Rating</th>\n",
       "      <th>sentiment</th>\n",
       "      <th>review_clean</th>\n",
       "    </tr>\n",
       "  </thead>\n",
       "  <tbody>\n",
       "    <tr>\n",
       "      <td>15642</td>\n",
       "      <td>super customer service husband just come trip ...</td>\n",
       "      <td>4</td>\n",
       "      <td>1</td>\n",
       "      <td>super custom servic husband come trip asia sta...</td>\n",
       "    </tr>\n",
       "    <tr>\n",
       "      <td>5891</td>\n",
       "      <td>hotel toledano aware place booking phone webpa...</td>\n",
       "      <td>2</td>\n",
       "      <td>0</td>\n",
       "      <td>hotel toledano awar place book phone webpag wa...</td>\n",
       "    </tr>\n",
       "    <tr>\n",
       "      <td>11196</td>\n",
       "      <td>did acheive 5 star rating, just not 5 star hot...</td>\n",
       "      <td>2</td>\n",
       "      <td>0</td>\n",
       "      <td>acheiv star rate star hotel room tub rust toil...</td>\n",
       "    </tr>\n",
       "    <tr>\n",
       "      <td>18050</td>\n",
       "      <td>usual seasons excellence great seasons hotel e...</td>\n",
       "      <td>5</td>\n",
       "      <td>1</td>\n",
       "      <td>usual season excel great season hotel exce exp...</td>\n",
       "    </tr>\n",
       "    <tr>\n",
       "      <td>13442</td>\n",
       "      <td>just imagined web page hotel v web page descri...</td>\n",
       "      <td>4</td>\n",
       "      <td>1</td>\n",
       "      <td>imagin web page hotel v web page descript accu...</td>\n",
       "    </tr>\n",
       "    <tr>\n",
       "      <td>...</td>\n",
       "      <td>...</td>\n",
       "      <td>...</td>\n",
       "      <td>...</td>\n",
       "      <td>...</td>\n",
       "    </tr>\n",
       "    <tr>\n",
       "      <td>6394</td>\n",
       "      <td>disappointing service experience benjamin echo...</td>\n",
       "      <td>2</td>\n",
       "      <td>0</td>\n",
       "      <td>disappoint servic experi benjamin echo vari ex...</td>\n",
       "    </tr>\n",
       "    <tr>\n",
       "      <td>12545</td>\n",
       "      <td>beautiful beach bad food drinks hotel grounds ...</td>\n",
       "      <td>2</td>\n",
       "      <td>0</td>\n",
       "      <td>beauti beach bad food drink hotel ground espec...</td>\n",
       "    </tr>\n",
       "    <tr>\n",
       "      <td>20041</td>\n",
       "      <td>hotel helll, concern letter account horrible e...</td>\n",
       "      <td>1</td>\n",
       "      <td>0</td>\n",
       "      <td>hotel helll concern letter account horribl exp...</td>\n",
       "    </tr>\n",
       "    <tr>\n",
       "      <td>13368</td>\n",
       "      <td>poor service impressions n't great, arrival yo...</td>\n",
       "      <td>2</td>\n",
       "      <td>0</td>\n",
       "      <td>poor servic impress n great arriv young ladi d...</td>\n",
       "    </tr>\n",
       "    <tr>\n",
       "      <td>17524</td>\n",
       "      <td>wow, time new york booked trip based recommend...</td>\n",
       "      <td>5</td>\n",
       "      <td>1</td>\n",
       "      <td>wow time new york book trip base recommend dis...</td>\n",
       "    </tr>\n",
       "  </tbody>\n",
       "</table>\n",
       "<p>10831 rows × 4 columns</p>\n",
       "</div>"
      ],
      "text/plain": [
       "                                                  Review  Rating  sentiment  \\\n",
       "15642  super customer service husband just come trip ...       4          1   \n",
       "5891   hotel toledano aware place booking phone webpa...       2          0   \n",
       "11196  did acheive 5 star rating, just not 5 star hot...       2          0   \n",
       "18050  usual seasons excellence great seasons hotel e...       5          1   \n",
       "13442  just imagined web page hotel v web page descri...       4          1   \n",
       "...                                                  ...     ...        ...   \n",
       "6394   disappointing service experience benjamin echo...       2          0   \n",
       "12545  beautiful beach bad food drinks hotel grounds ...       2          0   \n",
       "20041  hotel helll, concern letter account horrible e...       1          0   \n",
       "13368  poor service impressions n't great, arrival yo...       2          0   \n",
       "17524  wow, time new york booked trip based recommend...       5          1   \n",
       "\n",
       "                                            review_clean  \n",
       "15642  super custom servic husband come trip asia sta...  \n",
       "5891   hotel toledano awar place book phone webpag wa...  \n",
       "11196  acheiv star rate star hotel room tub rust toil...  \n",
       "18050  usual season excel great season hotel exce exp...  \n",
       "13442  imagin web page hotel v web page descript accu...  \n",
       "...                                                  ...  \n",
       "6394   disappoint servic experi benjamin echo vari ex...  \n",
       "12545  beauti beach bad food drink hotel ground espec...  \n",
       "20041  hotel helll concern letter account horribl exp...  \n",
       "13368  poor servic impress n great arriv young ladi d...  \n",
       "17524  wow time new york book trip base recommend dis...  \n",
       "\n",
       "[10831 rows x 4 columns]"
      ]
     },
     "execution_count": 25,
     "metadata": {},
     "output_type": "execute_result"
    }
   ],
   "source": [
    "df_new"
   ]
  },
  {
   "cell_type": "code",
   "execution_count": 26,
   "metadata": {},
   "outputs": [],
   "source": [
    "from sklearn.feature_extraction.text import CountVectorizer"
   ]
  },
  {
   "cell_type": "code",
   "execution_count": 27,
   "metadata": {},
   "outputs": [],
   "source": [
    "x = df_new.iloc[: , [1,3]]\n",
    "y = df_new.iloc[: , [2]]"
   ]
  },
  {
   "cell_type": "code",
   "execution_count": 28,
   "metadata": {},
   "outputs": [],
   "source": [
    "X_train, X_test, y_train, y_test = train_test_split(x,y,test_size = .2)"
   ]
  },
  {
   "cell_type": "code",
   "execution_count": 29,
   "metadata": {},
   "outputs": [],
   "source": [
    "cv1 = CountVectorizer()"
   ]
  },
  {
   "cell_type": "code",
   "execution_count": 30,
   "metadata": {},
   "outputs": [],
   "source": [
    "cv2 = CountVectorizer(max_features=12000)"
   ]
  },
  {
   "cell_type": "code",
   "execution_count": 31,
   "metadata": {},
   "outputs": [
    {
     "data": {
      "text/plain": [
       "(10831, 4)"
      ]
     },
     "execution_count": 31,
     "metadata": {},
     "output_type": "execute_result"
    }
   ],
   "source": [
    "df_new.shape"
   ]
  },
  {
   "cell_type": "code",
   "execution_count": 32,
   "metadata": {},
   "outputs": [],
   "source": [
    "train_matrix1 = cv1.fit_transform(X_train.review_clean)\n",
    "train_matrix2 = cv2.fit_transform(X_train.review_clean)"
   ]
  },
  {
   "cell_type": "code",
   "execution_count": 33,
   "metadata": {},
   "outputs": [],
   "source": [
    "test_matrix1 = cv1.transform(X_test.review_clean)\n",
    "test_matrix2 = cv2.transform(X_test.review_clean)"
   ]
  },
  {
   "cell_type": "code",
   "execution_count": 34,
   "metadata": {},
   "outputs": [
    {
     "data": {
      "text/plain": [
       "<8664x23140 sparse matrix of type '<class 'numpy.int64'>'\n",
       "\twith 672433 stored elements in Compressed Sparse Row format>"
      ]
     },
     "execution_count": 34,
     "metadata": {},
     "output_type": "execute_result"
    }
   ],
   "source": [
    "train_matrix1"
   ]
  },
  {
   "cell_type": "code",
   "execution_count": 38,
   "metadata": {},
   "outputs": [
    {
     "data": {
      "text/plain": [
       "23140"
      ]
     },
     "execution_count": 38,
     "metadata": {},
     "output_type": "execute_result"
    }
   ],
   "source": [
    "len(cv1.get_feature_names())"
   ]
  },
  {
   "cell_type": "code",
   "execution_count": 36,
   "metadata": {},
   "outputs": [],
   "source": [
    "from sklearn.naive_bayes import  MultinomialNB"
   ]
  },
  {
   "cell_type": "code",
   "execution_count": 37,
   "metadata": {},
   "outputs": [
    {
     "name": "stderr",
     "output_type": "stream",
     "text": [
      "C:\\Users\\ravin\\Anaconda3\\lib\\site-packages\\sklearn\\utils\\validation.py:73: DataConversionWarning: A column-vector y was passed when a 1d array was expected. Please change the shape of y to (n_samples, ), for example using ravel().\n",
      "  return f(**kwargs)\n",
      "C:\\Users\\ravin\\Anaconda3\\lib\\site-packages\\sklearn\\utils\\validation.py:73: DataConversionWarning: A column-vector y was passed when a 1d array was expected. Please change the shape of y to (n_samples, ), for example using ravel().\n",
      "  return f(**kwargs)\n"
     ]
    }
   ],
   "source": [
    "model1 = MultinomialNB().fit(train_matrix1, y_train)\n",
    "model2 = MultinomialNB().fit(train_matrix2, y_train)"
   ]
  },
  {
   "cell_type": "code",
   "execution_count": 39,
   "metadata": {},
   "outputs": [
    {
     "data": {
      "text/plain": [
       "0.8940443213296398"
      ]
     },
     "execution_count": 39,
     "metadata": {},
     "output_type": "execute_result"
    }
   ],
   "source": [
    "model1.score(train_matrix1, y_train)"
   ]
  },
  {
   "cell_type": "code",
   "execution_count": 42,
   "metadata": {},
   "outputs": [
    {
     "data": {
      "text/plain": [
       "0.8836565096952909"
      ]
     },
     "execution_count": 42,
     "metadata": {},
     "output_type": "execute_result"
    }
   ],
   "source": [
    "model2.score(train_matrix2, y_train)"
   ]
  },
  {
   "cell_type": "code",
   "execution_count": 43,
   "metadata": {},
   "outputs": [
    {
     "name": "stdout",
     "output_type": "stream",
     "text": [
      "0.8371019843101062\n",
      "0.8375634517766497\n"
     ]
    }
   ],
   "source": [
    "print(model1.score(test_matrix1, y_test))\n",
    "print(model2.score(test_matrix2, y_test))"
   ]
  },
  {
   "cell_type": "code",
   "execution_count": 45,
   "metadata": {},
   "outputs": [
    {
     "data": {
      "text/plain": [
       "array([[843, 240],\n",
       "       [113, 971]], dtype=int64)"
      ]
     },
     "execution_count": 45,
     "metadata": {},
     "output_type": "execute_result"
    }
   ],
   "source": [
    "confusion_matrix(y_test , model1.predict(test_matrix1))"
   ]
  },
  {
   "cell_type": "code",
   "execution_count": 46,
   "metadata": {},
   "outputs": [
    {
     "data": {
      "text/plain": [
       "array([[839, 244],\n",
       "       [108, 976]], dtype=int64)"
      ]
     },
     "execution_count": 46,
     "metadata": {},
     "output_type": "execute_result"
    }
   ],
   "source": [
    "confusion_matrix(y_test , model2.predict(test_matrix2))"
   ]
  },
  {
   "cell_type": "code",
   "execution_count": 47,
   "metadata": {},
   "outputs": [],
   "source": [
    "from sklearn.feature_extraction.text import TfidfVectorizer"
   ]
  },
  {
   "cell_type": "code",
   "execution_count": 48,
   "metadata": {},
   "outputs": [],
   "source": [
    "tfidf = TfidfVectorizer()"
   ]
  },
  {
   "cell_type": "code",
   "execution_count": 51,
   "metadata": {},
   "outputs": [],
   "source": [
    "tf_train = tfidf.fit_transform(X_train.review_clean)\n",
    "tf_test = tfidf.transform(X_test.review_clean)"
   ]
  },
  {
   "cell_type": "code",
   "execution_count": 53,
   "metadata": {},
   "outputs": [
    {
     "data": {
      "text/plain": [
       "(2167, 23140)"
      ]
     },
     "execution_count": 53,
     "metadata": {},
     "output_type": "execute_result"
    }
   ],
   "source": [
    "tf_test.get_shape()"
   ]
  },
  {
   "cell_type": "code",
   "execution_count": 268,
   "metadata": {},
   "outputs": [],
   "source": [
    "tf[0].toarray().sort()"
   ]
  },
  {
   "cell_type": "code",
   "execution_count": 54,
   "metadata": {},
   "outputs": [
    {
     "name": "stderr",
     "output_type": "stream",
     "text": [
      "C:\\Users\\ravin\\Anaconda3\\lib\\site-packages\\sklearn\\utils\\validation.py:73: DataConversionWarning: A column-vector y was passed when a 1d array was expected. Please change the shape of y to (n_samples, ), for example using ravel().\n",
      "  return f(**kwargs)\n"
     ]
    }
   ],
   "source": [
    "model_tf = MultinomialNB().fit(tf_train, y_train)"
   ]
  },
  {
   "cell_type": "code",
   "execution_count": 55,
   "metadata": {},
   "outputs": [
    {
     "data": {
      "text/plain": [
       "0.8936980609418282"
      ]
     },
     "execution_count": 55,
     "metadata": {},
     "output_type": "execute_result"
    }
   ],
   "source": [
    "model_tf.score(tf_train, y_train)"
   ]
  },
  {
   "cell_type": "code",
   "execution_count": 56,
   "metadata": {},
   "outputs": [
    {
     "data": {
      "text/plain": [
       "0.8412551915089986"
      ]
     },
     "execution_count": 56,
     "metadata": {},
     "output_type": "execute_result"
    }
   ],
   "source": [
    "model_tf.score(tf_test, y_test)"
   ]
  },
  {
   "cell_type": "code",
   "execution_count": 75,
   "metadata": {},
   "outputs": [
    {
     "data": {
      "text/plain": [
       "17216"
      ]
     },
     "execution_count": 75,
     "metadata": {},
     "output_type": "execute_result"
    }
   ],
   "source": [
    "np.argmax(tf_train[2].toarray()[0])"
   ]
  },
  {
   "cell_type": "code",
   "execution_count": 76,
   "metadata": {},
   "outputs": [
    {
     "data": {
      "text/plain": [
       "'rollaway'"
      ]
     },
     "execution_count": 76,
     "metadata": {},
     "output_type": "execute_result"
    }
   ],
   "source": [
    "tfidf.get_feature_names()[17216]"
   ]
  },
  {
   "cell_type": "code",
   "execution_count": null,
   "metadata": {},
   "outputs": [],
   "source": []
  }
 ],
 "metadata": {
  "kernelspec": {
   "display_name": "Python 3",
   "language": "python",
   "name": "python3"
  },
  "language_info": {
   "codemirror_mode": {
    "name": "ipython",
    "version": 3
   },
   "file_extension": ".py",
   "mimetype": "text/x-python",
   "name": "python",
   "nbconvert_exporter": "python",
   "pygments_lexer": "ipython3",
   "version": "3.7.7"
  }
 },
 "nbformat": 4,
 "nbformat_minor": 2
}
